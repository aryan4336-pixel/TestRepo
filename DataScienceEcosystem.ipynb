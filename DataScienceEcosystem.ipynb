{
 "cells": [
  {
   "cell_type": "markdown",
   "id": "8dabb1d0-af12-44ae-8d93-2e09a8fb8fdb",
   "metadata": {},
   "source": [
    "#  Data Science Tools and Ecosystem"
   ]
  },
  {
   "cell_type": "markdown",
   "id": "e8c68005-2078-4e15-b050-a92a9ae23e5c",
   "metadata": {},
   "source": [
    "In this notebook, Data Science Tools and Ecosystem are summarized"
   ]
  },
  {
   "cell_type": "markdown",
   "id": "04dd7bea-84e8-4f98-ab1e-eaf3222b79cd",
   "metadata": {},
   "source": [
    "**Objectives** :-\n",
    "1) List popular languages for Data Science\n",
    "2) List commonly used Data Science libraries\n",
    "3) Name some open source development environment tools\n",
    "4) Executing a simple arithmetic operation to multiply and add integers\n",
    "5) Writing an expression to convert minutes into hours "
   ]
  },
  {
   "cell_type": "markdown",
   "id": "05f58171-f904-41d7-8bcb-ec402b305205",
   "metadata": {},
   "source": [
    "Some of the popular languages that Data Scientists use are:\n",
    "1) Python\n",
    "2) R\n",
    "3) SQL\n",
    "4) Julia\n",
    "5) JAVA"
   ]
  },
  {
   "cell_type": "markdown",
   "id": "2e418e35-22c2-4d14-8b3a-ebbc38a133c3",
   "metadata": {},
   "source": [
    "Some of the commonly used libraries used by Data Scientists include :- \n",
    "1) TensorFlow\n",
    "2) PyTorch\n",
    "3) SeaBorn\n",
    "4) PANDAS\n",
    "5) NumPy\n",
    "   "
   ]
  },
  {
   "cell_type": "markdown",
   "id": "fd14fa98-3118-44b2-966e-39accd4d3846",
   "metadata": {},
   "source": [
    "| Data Science Tools |\n",
    "| --- |\n",
    "| Jupyter Notebook |\n",
    "| RStudio |\n",
    "| Visual Studio Code |"
   ]
  },
  {
   "cell_type": "markdown",
   "id": "e001e342-93b3-42c3-92ce-9adc1084183a",
   "metadata": {},
   "source": [
    "### Below are a few examples of evaluating arithmetic expressions in Python "
   ]
  },
  {
   "cell_type": "code",
   "execution_count": 4,
   "id": "3af62ded-3fb7-498b-bd9b-a83d71d86053",
   "metadata": {
    "collapsed": true,
    "jupyter": {
     "outputs_hidden": true
    }
   },
   "outputs": [
    {
     "data": {
      "text/plain": [
       "17"
      ]
     },
     "execution_count": 4,
     "metadata": {},
     "output_type": "execute_result"
    }
   ],
   "source": [
    "#This a simple arithmetic expression to mutiply then add integers\n",
    "(3*4)+5"
   ]
  },
  {
   "cell_type": "code",
   "execution_count": 8,
   "id": "70439528-96d9-409a-ab0a-9ac32d2f05cf",
   "metadata": {
    "collapsed": true,
    "jupyter": {
     "outputs_hidden": true
    },
    "scrolled": true
   },
   "outputs": [
    {
     "data": {
      "text/plain": [
       "3.3333333333333335"
      ]
     },
     "execution_count": 8,
     "metadata": {},
     "output_type": "execute_result"
    }
   ],
   "source": [
    "#This expression will convert 200 minutes to hours by diving by 60\n",
    "200/60"
   ]
  },
  {
   "cell_type": "markdown",
   "id": "111f799c-4694-4d30-96f3-d3695ba4c311",
   "metadata": {},
   "source": [
    "## Author\n",
    "Aryan Verma"
   ]
  },
  {
   "cell_type": "code",
   "execution_count": null,
   "id": "1e2af03b-06c3-4b94-82a8-3b8737a2cd89",
   "metadata": {},
   "outputs": [],
   "source": []
  }
 ],
 "metadata": {
  "kernelspec": {
   "display_name": "anaconda-2024.02-py310",
   "language": "python",
   "name": "conda-env-anaconda-2024.02-py310-py"
  },
  "language_info": {
   "codemirror_mode": {
    "name": "ipython",
    "version": 3
   },
   "file_extension": ".py",
   "mimetype": "text/x-python",
   "name": "python",
   "nbconvert_exporter": "python",
   "pygments_lexer": "ipython3",
   "version": "3.10.14"
  }
 },
 "nbformat": 4,
 "nbformat_minor": 5
}
